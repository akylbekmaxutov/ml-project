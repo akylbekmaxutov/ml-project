{
 "cells": [
  {
   "cell_type": "markdown",
   "id": "d82efca2",
   "metadata": {},
   "source": [
    "### <center> (Practical Research Track) The Influence of Dimensionality Reduction on the classification accuracy of Titanic Problem</center>\n",
    "    \n",
    "### <center> Akylbek Maxutov <center>"
   ]
  },
  {
   "cell_type": "markdown",
   "id": "43af6e23",
   "metadata": {},
   "source": [
    "#### ABSTRACT"
   ]
  },
  {
   "cell_type": "markdown",
   "id": "4b412c10",
   "metadata": {},
   "source": [
    "There are can be different ways of solving the same problem using a variety of approaches that machine learning could offer. Classification problems are mostly solved by state-of-the-art algorithms. However, if the data present is in high dimension, it could be reduced by using known Dimensionality Reduction techniques and the reduction will allow visualizing the data, subsequently having influenced the final decision. To test this assumption non-linear dimensionality reduction techniques were used. As a problem Titanic dataset from the Kaggle platform was chosen. After implementation of the data of Titanic problem, the spread of data over the space was visualized that the final accuracy obtained after dimensionality reduction was not output that promising results."
   ]
  },
  {
   "cell_type": "markdown",
   "id": "e1f5898c",
   "metadata": {},
   "source": [
    "  "
   ]
  },
  {
   "cell_type": "markdown",
   "id": "f5ed303b",
   "metadata": {},
   "source": [
    "#### INTRODUCTION"
   ]
  },
  {
   "cell_type": "markdown",
   "id": "8e7c114c",
   "metadata": {},
   "source": [
    "The main idea that lies behind Data Science is to help businesses through the study of gathered data.[1] It could be data related to customers, purchases, sales, or even activities during the holiday periods. However, the systematical research of data also could be beneficial for the Government Institutions, Educational Organizations, and Healthcare centers, because each Institute gathers information related to exactly one domain aspect, and the insights found in data could illustrate the behavior of a customer, student, or a patient. There is a platform, named Kaggle, which is assumed to be one of the main platforms to practice data science problems, and there is a beginner-friendly dataset, called Titanic [2]. As the name says, this dataset consists of information regarding each passenger who was on the ship on the day of disaster and the recording about could this person survive or not [2],[3],[4]. "
   ]
  },
  {
   "cell_type": "markdown",
   "id": "3e69a55f",
   "metadata": {},
   "source": [
    "The advantage of the Titanic dataset is in the fact that it allows testing different hypotheses using a variety of machine learning concepts. As the problem is of binary classification, here the performance of a list of classification algorithms can be illustrated. And that is what exactly Ekinci et al. [2] did. In their research, they compared the accuracy rate of Gradient Boosting, Random Forest, ANN, AdaBoost, Decision Tree, Logistic Regression, kNN, and Naïve Bayes on the prediction of survival rate of Titanic passengers on the test set. "
   ]
  },
  {
   "cell_type": "markdown",
   "id": "f3c211b3",
   "metadata": {},
   "source": [
    "There are also other works devoted to the assessment of the above-mentioned algorithms on the same dataset. Nevertheless, the tools that [3] and [4] use are different, weka and R are used mainly. Interestingly, there are other enthusiasts who used absolutely different approaches in solving the problem. For example, there were cases when participants in the Kaggle platform tried to use Convolutional Neural Networks on tabular data [5], the result is not satisfactory, however, but for the experimentation, it was an interesting try. "
   ]
  },
  {
   "cell_type": "markdown",
   "id": "feb347f5",
   "metadata": {},
   "source": [
    "In this work, a completely different approach will be used. The dataset will stay the same, but for the increase of accuracy the dimensionality reduction methods will be used. To be exact the influence of t-distributed Stochastic Neighbor Embedding and kernel Principal Component Analysis in 2-d and 3-d will be compared. First, Data will be tested on four state-of-the-art algorithms: kNN, Decision Tree, Random Forest, and AdaBoost. Then the reduced dataset will be tested on the above-mentioned algorithm again, so that there will be two parallel comparisons: between kPCA and tSNE, and classification algorithms before and after dimensionality reduction. "
   ]
  },
  {
   "cell_type": "markdown",
   "id": "d868d16e",
   "metadata": {},
   "source": [
    "The work is organized in the following way; in the first part, the dataset will be prepared for further analysis. In the second part, prepared data will be analyzed using classification algorithms. The next part will be devoted to the brief introduction of tSNE and kPCA, following with its implementation. Finally, the last parts will include the overall analysis and the conclusion of the work."
   ]
  },
  {
   "cell_type": "markdown",
   "id": "a8507acc",
   "metadata": {},
   "source": [
    "  "
   ]
  },
  {
   "cell_type": "markdown",
   "id": "87a5583f",
   "metadata": {},
   "source": [
    "#### DATA PREPARATION"
   ]
  },
  {
   "cell_type": "markdown",
   "id": "d5e739ca",
   "metadata": {},
   "source": [
    "Before the implementation, all the needed data should be prepared. In this section, data preprocessing will be done. The dataset will be analyzed and will be organized in the correct way. \n",
    "Below are the libraries used during the project. The dataset will be called Titanic, and only the training dataset will be used. Because the main goal of the project is not the prediction with the test dataset, instead of an exploration of how dimensionality reduction affects training data. "
   ]
  },
  {
   "cell_type": "code",
   "execution_count": 1,
   "id": "d8a0fdee",
   "metadata": {},
   "outputs": [],
   "source": [
    "import numpy as np \n",
    "import pandas as pd \n",
    "import re\n",
    "from mpl_toolkits import mplot3d\n",
    "\n",
    "import seaborn as sns\n",
    "%matplotlib inline\n",
    "import matplotlib.pyplot as plt\n",
    "\n",
    "# Algorithms\n",
    "from sklearn.model_selection import train_test_split\n",
    "from sklearn.preprocessing import StandardScaler\n",
    "\n",
    "from sklearn.ensemble import RandomForestClassifier\n",
    "from sklearn.tree import DecisionTreeClassifier\n",
    "from sklearn.ensemble import AdaBoostClassifier\n",
    "from sklearn.neighbors import KNeighborsClassifier\n",
    "\n",
    "from sklearn.decomposition import KernelPCA\n",
    "from sklearn.manifold import TSNE"
   ]
  },
  {
   "cell_type": "code",
   "execution_count": 2,
   "id": "28b920f1",
   "metadata": {},
   "outputs": [],
   "source": [
    "titanic = pd.read_csv(\"supplementary/train.csv\")"
   ]
  },
  {
   "cell_type": "code",
   "execution_count": 3,
   "id": "83138555",
   "metadata": {},
   "outputs": [
    {
     "name": "stdout",
     "output_type": "stream",
     "text": [
      "<class 'pandas.core.frame.DataFrame'>\n",
      "RangeIndex: 891 entries, 0 to 890\n",
      "Data columns (total 12 columns):\n",
      " #   Column       Non-Null Count  Dtype  \n",
      "---  ------       --------------  -----  \n",
      " 0   PassengerId  891 non-null    int64  \n",
      " 1   Survived     891 non-null    int64  \n",
      " 2   Pclass       891 non-null    int64  \n",
      " 3   Name         891 non-null    object \n",
      " 4   Sex          891 non-null    object \n",
      " 5   Age          714 non-null    float64\n",
      " 6   SibSp        891 non-null    int64  \n",
      " 7   Parch        891 non-null    int64  \n",
      " 8   Ticket       891 non-null    object \n",
      " 9   Fare         891 non-null    float64\n",
      " 10  Cabin        204 non-null    object \n",
      " 11  Embarked     889 non-null    object \n",
      "dtypes: float64(2), int64(5), object(5)\n",
      "memory usage: 83.7+ KB\n"
     ]
    }
   ],
   "source": [
    "titanic.info()"
   ]
  },
  {
   "cell_type": "markdown",
   "id": "804c3ece",
   "metadata": {},
   "source": [
    "At the first glance, it is seen that apart from the 'Survived' column, which is the target feature, the other 10 features include numerical and categorical data. The 'PassengerID' will be dropped immediately because it is the order of given information about passengers in a database. 'Cabin', 'Age', and 'Embarked' columns are not completely full, there are some missing data"
   ]
  },
  {
   "cell_type": "code",
   "execution_count": 4,
   "id": "6931147f",
   "metadata": {},
   "outputs": [
    {
     "name": "stdout",
     "output_type": "stream",
     "text": [
      "Missed values in AGE attribute: 177, or in percent 19.865%\n",
      "Missed values in CABIN attribute: 687, or in percent 77.104%\n",
      "Missed values in EMBARKED attribute: 2, or in percent 0.224%\n"
     ]
    }
   ],
   "source": [
    "print('Missed values in AGE attribute: {}, or in percent {}%'.format(str(891-714), \n",
    "                                                            str(round((891-714)/891 * 100,3))))\n",
    "print('Missed values in CABIN attribute: {}, or in percent {}%'.format(str(891-204), \n",
    "                                                            str(round((891-204)/891 * 100,3))))\n",
    "print('Missed values in EMBARKED attribute: {}, or in percent {}%'.format(str(891-889), \n",
    "                                                            str(round((891-889)/891 * 100,3))))"
   ]
  },
  {
   "cell_type": "markdown",
   "id": "1d88088e",
   "metadata": {},
   "source": [
    "Here, the 'Embarked' column can be filled easily because only 0.224% of data is missing. In this case, null values will be filled with the mode of the column. 'Age' data also can be dealt, because slightly less than 20% of data is missing. However, in the case of 'Cabin' data, almost 80% of data should be mechanically filled. "
   ]
  },
  {
   "cell_type": "markdown",
   "id": "e5956647",
   "metadata": {},
   "source": [
    "Nevertheless, the first steps are as follows"
   ]
  },
  {
   "cell_type": "code",
   "execution_count": 5,
   "id": "5705d584",
   "metadata": {},
   "outputs": [
    {
     "name": "stdout",
     "output_type": "stream",
     "text": [
      "['S' 'C' 'Q' nan]\n"
     ]
    },
    {
     "data": {
      "text/plain": [
       "count     889\n",
       "unique      3\n",
       "top         S\n",
       "freq      644\n",
       "Name: Embarked, dtype: object"
      ]
     },
     "execution_count": 5,
     "metadata": {},
     "output_type": "execute_result"
    }
   ],
   "source": [
    "titanic = titanic.drop(['PassengerId'], axis=1)\n",
    "print(titanic['Embarked'].unique())\n",
    "titanic['Embarked'].describe()"
   ]
  },
  {
   "cell_type": "markdown",
   "id": "7a66052b",
   "metadata": {},
   "source": [
    "The 'ID' column is dropped, and to fill the 'Embarked' values, the mode is found. As it is seen, column contains only three values, expect NaN values. 'S' values seems to be frequent making the 644 of 889. Therefore, missed 2 samples will be filled as 'S'. As this feature is of categorical form, it will be converted into numerical in the following way: all 'S' in the column will be encoded as 0, 'C' and 'Q', 1 and 2 respectively"
   ]
  },
  {
   "cell_type": "code",
   "execution_count": 6,
   "id": "445d0069",
   "metadata": {},
   "outputs": [],
   "source": [
    "titanic['Embarked'] = titanic['Embarked'].fillna('S')\n",
    "embarked = {'S': 0, 'C': 1, 'Q': 2}\n",
    "titanic['Embarked'] = titanic['Embarked'].map(embarked)"
   ]
  },
  {
   "cell_type": "markdown",
   "id": "6807cf19",
   "metadata": {},
   "source": [
    "The 'Embarked' column is prepared. Next is the 'Age' Column, obviously, missed values could be filled with the median, mean, or mode, but as 20% of data is missed, assigning the same value to 1/5 of the data might have a significant influence. Therefore, the cleaning is done as next\n",
    "1. The mean and standard deviation of the column will be found.\n",
    "2. The number of null values will be assigned to a variable 'null'.\n",
    "3. Then random numbers between mean-std and mean+std will be generated. The size will be the number of null values. \n",
    "4. Then these randomly generated numbers will be assigned to null values of the 'Age' column."
   ]
  },
  {
   "cell_type": "code",
   "execution_count": 7,
   "id": "a63cbb73",
   "metadata": {},
   "outputs": [],
   "source": [
    "mean = titanic[\"Age\"].mean()\n",
    "std = titanic[\"Age\"].std()\n",
    "null = titanic[\"Age\"].isnull().sum()\n",
    "random_age = np.random.randint(mean - std, mean + std, size = null)\n",
    "\n",
    "copy = titanic[\"Age\"].copy()\n",
    "copy[np.isnan(copy)] = random_age\n",
    "titanic[\"Age\"] = copy\n",
    "titanic[\"Age\"] = titanic[\"Age\"].astype(int)"
   ]
  },
  {
   "cell_type": "markdown",
   "id": "6a6d0615",
   "metadata": {},
   "source": [
    "77% of 'Cabin' data is absent. It could be easily dropped, but the below code shows that from the present data there can be found a pattern [LetterNumber]. Therefore only letters of 'Cabin' will be kept. But first, null values will be filled with 'N'. Then letter part from the feature will be extracted using regular expression. After that, all letters will be encoded."
   ]
  },
  {
   "cell_type": "code",
   "execution_count": 8,
   "id": "b7b0f912",
   "metadata": {},
   "outputs": [
    {
     "data": {
      "text/plain": [
       "array([nan, 'C85', 'C123', 'E46', 'G6', 'C103', 'D56', 'A6',\n",
       "       'C23 C25 C27', 'B78', 'D33', 'B30', 'C52', 'B28', 'C83', 'F33',\n",
       "       'F G73', 'E31', 'A5', 'D10 D12', 'D26', 'C110', 'B58 B60', 'E101',\n",
       "       'F E69', 'D47', 'B86', 'F2', 'C2', 'E33', 'B19', 'A7', 'C49', 'F4',\n",
       "       'A32', 'B4', 'B80', 'A31', 'D36', 'D15', 'C93', 'C78', 'D35',\n",
       "       'C87', 'B77', 'E67', 'B94', 'C125', 'C99', 'C118', 'D7', 'A19',\n",
       "       'B49', 'D', 'C22 C26', 'C106', 'C65', 'E36', 'C54',\n",
       "       'B57 B59 B63 B66', 'C7', 'E34', 'C32', 'B18', 'C124', 'C91', 'E40',\n",
       "       'T', 'C128', 'D37', 'B35', 'E50', 'C82', 'B96 B98', 'E10', 'E44',\n",
       "       'A34', 'C104', 'C111', 'C92', 'E38', 'D21', 'E12', 'E63', 'A14',\n",
       "       'B37', 'C30', 'D20', 'B79', 'E25', 'D46', 'B73', 'C95', 'B38',\n",
       "       'B39', 'B22', 'C86', 'C70', 'A16', 'C101', 'C68', 'A10', 'E68',\n",
       "       'B41', 'A20', 'D19', 'D50', 'D9', 'A23', 'B50', 'A26', 'D48',\n",
       "       'E58', 'C126', 'B71', 'B51 B53 B55', 'D49', 'B5', 'B20', 'F G63',\n",
       "       'C62 C64', 'E24', 'C90', 'C45', 'E8', 'B101', 'D45', 'C46', 'D30',\n",
       "       'E121', 'D11', 'E77', 'F38', 'B3', 'D6', 'B82 B84', 'D17', 'A36',\n",
       "       'B102', 'B69', 'E49', 'C47', 'D28', 'E17', 'A24', 'C50', 'B42',\n",
       "       'C148'], dtype=object)"
      ]
     },
     "execution_count": 8,
     "metadata": {},
     "output_type": "execute_result"
    }
   ],
   "source": [
    "titanic['Cabin'].unique()"
   ]
  },
  {
   "cell_type": "code",
   "execution_count": 9,
   "id": "a38f2ec3",
   "metadata": {},
   "outputs": [
    {
     "data": {
      "text/plain": [
       "array(['N', 'C', 'E', 'G', 'D', 'A', 'B', 'F', 'T'], dtype=object)"
      ]
     },
     "execution_count": 9,
     "metadata": {},
     "output_type": "execute_result"
    }
   ],
   "source": [
    "titanic['Cabin'] = titanic['Cabin'].fillna('N')\n",
    "titanic['Cabin'] = titanic['Cabin'].str.extract('([a-zA-Z]+)', expand=False)\n",
    "titanic['Cabin'].unique()"
   ]
  },
  {
   "cell_type": "markdown",
   "id": "ddd4879c",
   "metadata": {},
   "source": [
    "There 9 items in the new 'Cabin' column. The logic of encoding is assigning a number to a specific letter: \n",
    "Example, {\"A\": 1, \"B\": 2, \"C\": 3, \"D\": 4, \"E\": 5, \"F\": 6, \"G\": 7, \"N\": 8, \"T\": 9}"
   ]
  },
  {
   "cell_type": "code",
   "execution_count": 10,
   "id": "fd168c4e",
   "metadata": {},
   "outputs": [],
   "source": [
    "cabin_letters = {\"A\": 1, \"B\": 2, \"C\": 3, \"D\": 4, \"E\": 5, \"F\": 6, \"G\": 7, \"N\": 8, \"T\": 9}\n",
    "titanic['Cabin'] = titanic['Cabin'].map(cabin_letters)"
   ]
  },
  {
   "cell_type": "code",
   "execution_count": 11,
   "id": "191f6980",
   "metadata": {},
   "outputs": [
    {
     "name": "stdout",
     "output_type": "stream",
     "text": [
      "<class 'pandas.core.frame.DataFrame'>\n",
      "RangeIndex: 891 entries, 0 to 890\n",
      "Data columns (total 11 columns):\n",
      " #   Column    Non-Null Count  Dtype  \n",
      "---  ------    --------------  -----  \n",
      " 0   Survived  891 non-null    int64  \n",
      " 1   Pclass    891 non-null    int64  \n",
      " 2   Name      891 non-null    object \n",
      " 3   Sex       891 non-null    object \n",
      " 4   Age       891 non-null    int32  \n",
      " 5   SibSp     891 non-null    int64  \n",
      " 6   Parch     891 non-null    int64  \n",
      " 7   Ticket    891 non-null    object \n",
      " 8   Fare      891 non-null    float64\n",
      " 9   Cabin     891 non-null    int64  \n",
      " 10  Embarked  891 non-null    int64  \n",
      "dtypes: float64(1), int32(1), int64(6), object(3)\n",
      "memory usage: 73.2+ KB\n"
     ]
    }
   ],
   "source": [
    "titanic.info()"
   ]
  },
  {
   "cell_type": "markdown",
   "id": "9a99e6cf",
   "metadata": {},
   "source": [
    "So, all missed values are filled. Next is to encode three object features. 'Name', 'Sex', and 'Ticket'."
   ]
  },
  {
   "cell_type": "code",
   "execution_count": 12,
   "id": "f5ff2320",
   "metadata": {},
   "outputs": [
    {
     "data": {
      "text/plain": [
       "0             A/5 21171\n",
       "1              PC 17599\n",
       "2      STON/O2. 3101282\n",
       "3                113803\n",
       "4                373450\n",
       "             ...       \n",
       "886              211536\n",
       "887              112053\n",
       "888          W./C. 6607\n",
       "889              111369\n",
       "890              370376\n",
       "Name: Ticket, Length: 891, dtype: object"
      ]
     },
     "execution_count": 12,
     "metadata": {},
     "output_type": "execute_result"
    }
   ],
   "source": [
    "titanic['Ticket']"
   ]
  },
  {
   "cell_type": "markdown",
   "id": "44b26b49",
   "metadata": {},
   "source": [
    "Here, for the 'Ticket', it is hard to find a pattern. Therefore, the column will be dropped. 'Sex' column is encoded - {'male': 0, 'female': 1}"
   ]
  },
  {
   "cell_type": "code",
   "execution_count": 13,
   "id": "6e3868cb",
   "metadata": {},
   "outputs": [],
   "source": [
    "titanic = titanic.drop(['Ticket'], axis=1)\n",
    "\n",
    "gender = {'male': 0, 'female': 1}\n",
    "titanic['Sex'] = titanic['Sex'].map(gender)"
   ]
  },
  {
   "cell_type": "markdown",
   "id": "2c4802d8",
   "metadata": {},
   "source": [
    "Another column will be created. It will consist the number of family members, therefore it will be summation of 'SibSp' and 'Parch' columns"
   ]
  },
  {
   "cell_type": "code",
   "execution_count": 14,
   "id": "281eacf1",
   "metadata": {},
   "outputs": [],
   "source": [
    "titanic['Family'] = titanic['SibSp'] + titanic['Parch']"
   ]
  },
  {
   "cell_type": "code",
   "execution_count": 15,
   "id": "0084b8ae",
   "metadata": {},
   "outputs": [
    {
     "data": {
      "text/html": [
       "<div>\n",
       "<style scoped>\n",
       "    .dataframe tbody tr th:only-of-type {\n",
       "        vertical-align: middle;\n",
       "    }\n",
       "\n",
       "    .dataframe tbody tr th {\n",
       "        vertical-align: top;\n",
       "    }\n",
       "\n",
       "    .dataframe thead th {\n",
       "        text-align: right;\n",
       "    }\n",
       "</style>\n",
       "<table border=\"1\" class=\"dataframe\">\n",
       "  <thead>\n",
       "    <tr style=\"text-align: right;\">\n",
       "      <th></th>\n",
       "      <th>Survived</th>\n",
       "      <th>Pclass</th>\n",
       "      <th>Name</th>\n",
       "      <th>Sex</th>\n",
       "      <th>Age</th>\n",
       "      <th>SibSp</th>\n",
       "      <th>Parch</th>\n",
       "      <th>Fare</th>\n",
       "      <th>Cabin</th>\n",
       "      <th>Embarked</th>\n",
       "      <th>Family</th>\n",
       "    </tr>\n",
       "  </thead>\n",
       "  <tbody>\n",
       "    <tr>\n",
       "      <th>0</th>\n",
       "      <td>0</td>\n",
       "      <td>3</td>\n",
       "      <td>Braund, Mr. Owen Harris</td>\n",
       "      <td>0</td>\n",
       "      <td>22</td>\n",
       "      <td>1</td>\n",
       "      <td>0</td>\n",
       "      <td>7.2500</td>\n",
       "      <td>8</td>\n",
       "      <td>0</td>\n",
       "      <td>1</td>\n",
       "    </tr>\n",
       "    <tr>\n",
       "      <th>1</th>\n",
       "      <td>1</td>\n",
       "      <td>1</td>\n",
       "      <td>Cumings, Mrs. John Bradley (Florence Briggs Th...</td>\n",
       "      <td>1</td>\n",
       "      <td>38</td>\n",
       "      <td>1</td>\n",
       "      <td>0</td>\n",
       "      <td>71.2833</td>\n",
       "      <td>3</td>\n",
       "      <td>1</td>\n",
       "      <td>1</td>\n",
       "    </tr>\n",
       "    <tr>\n",
       "      <th>2</th>\n",
       "      <td>1</td>\n",
       "      <td>3</td>\n",
       "      <td>Heikkinen, Miss. Laina</td>\n",
       "      <td>1</td>\n",
       "      <td>26</td>\n",
       "      <td>0</td>\n",
       "      <td>0</td>\n",
       "      <td>7.9250</td>\n",
       "      <td>8</td>\n",
       "      <td>0</td>\n",
       "      <td>0</td>\n",
       "    </tr>\n",
       "    <tr>\n",
       "      <th>3</th>\n",
       "      <td>1</td>\n",
       "      <td>1</td>\n",
       "      <td>Futrelle, Mrs. Jacques Heath (Lily May Peel)</td>\n",
       "      <td>1</td>\n",
       "      <td>35</td>\n",
       "      <td>1</td>\n",
       "      <td>0</td>\n",
       "      <td>53.1000</td>\n",
       "      <td>3</td>\n",
       "      <td>0</td>\n",
       "      <td>1</td>\n",
       "    </tr>\n",
       "    <tr>\n",
       "      <th>4</th>\n",
       "      <td>0</td>\n",
       "      <td>3</td>\n",
       "      <td>Allen, Mr. William Henry</td>\n",
       "      <td>0</td>\n",
       "      <td>35</td>\n",
       "      <td>0</td>\n",
       "      <td>0</td>\n",
       "      <td>8.0500</td>\n",
       "      <td>8</td>\n",
       "      <td>0</td>\n",
       "      <td>0</td>\n",
       "    </tr>\n",
       "  </tbody>\n",
       "</table>\n",
       "</div>"
      ],
      "text/plain": [
       "   Survived  Pclass                                               Name  Sex  \\\n",
       "0         0       3                            Braund, Mr. Owen Harris    0   \n",
       "1         1       1  Cumings, Mrs. John Bradley (Florence Briggs Th...    1   \n",
       "2         1       3                             Heikkinen, Miss. Laina    1   \n",
       "3         1       1       Futrelle, Mrs. Jacques Heath (Lily May Peel)    1   \n",
       "4         0       3                           Allen, Mr. William Henry    0   \n",
       "\n",
       "   Age  SibSp  Parch     Fare  Cabin  Embarked  Family  \n",
       "0   22      1      0   7.2500      8         0       1  \n",
       "1   38      1      0  71.2833      3         1       1  \n",
       "2   26      0      0   7.9250      8         0       0  \n",
       "3   35      1      0  53.1000      3         0       1  \n",
       "4   35      0      0   8.0500      8         0       0  "
      ]
     },
     "execution_count": 15,
     "metadata": {},
     "output_type": "execute_result"
    }
   ],
   "source": [
    "titanic.head(5)"
   ]
  },
  {
   "cell_type": "markdown",
   "id": "1cac6237",
   "metadata": {},
   "source": [
    "As is seen above, data is almost prepared. Only the 'Name' column should be dropped. 'SibSp' and 'Parch' also will be dropped because they are organized into one column"
   ]
  },
  {
   "cell_type": "code",
   "execution_count": 16,
   "id": "b2333af2",
   "metadata": {},
   "outputs": [],
   "source": [
    "titanic = titanic.drop(['Name'], axis=1)\n",
    "titanic = titanic.drop(['SibSp'], axis=1)\n",
    "titanic = titanic.drop(['Parch'], axis=1)"
   ]
  },
  {
   "cell_type": "code",
   "execution_count": 17,
   "id": "52deb2d4",
   "metadata": {},
   "outputs": [
    {
     "data": {
      "text/html": [
       "<div>\n",
       "<style scoped>\n",
       "    .dataframe tbody tr th:only-of-type {\n",
       "        vertical-align: middle;\n",
       "    }\n",
       "\n",
       "    .dataframe tbody tr th {\n",
       "        vertical-align: top;\n",
       "    }\n",
       "\n",
       "    .dataframe thead th {\n",
       "        text-align: right;\n",
       "    }\n",
       "</style>\n",
       "<table border=\"1\" class=\"dataframe\">\n",
       "  <thead>\n",
       "    <tr style=\"text-align: right;\">\n",
       "      <th></th>\n",
       "      <th>Survived</th>\n",
       "      <th>Pclass</th>\n",
       "      <th>Sex</th>\n",
       "      <th>Age</th>\n",
       "      <th>Fare</th>\n",
       "      <th>Cabin</th>\n",
       "      <th>Embarked</th>\n",
       "      <th>Family</th>\n",
       "    </tr>\n",
       "  </thead>\n",
       "  <tbody>\n",
       "    <tr>\n",
       "      <th>0</th>\n",
       "      <td>0</td>\n",
       "      <td>3</td>\n",
       "      <td>0</td>\n",
       "      <td>22</td>\n",
       "      <td>7.2500</td>\n",
       "      <td>8</td>\n",
       "      <td>0</td>\n",
       "      <td>1</td>\n",
       "    </tr>\n",
       "    <tr>\n",
       "      <th>1</th>\n",
       "      <td>1</td>\n",
       "      <td>1</td>\n",
       "      <td>1</td>\n",
       "      <td>38</td>\n",
       "      <td>71.2833</td>\n",
       "      <td>3</td>\n",
       "      <td>1</td>\n",
       "      <td>1</td>\n",
       "    </tr>\n",
       "    <tr>\n",
       "      <th>2</th>\n",
       "      <td>1</td>\n",
       "      <td>3</td>\n",
       "      <td>1</td>\n",
       "      <td>26</td>\n",
       "      <td>7.9250</td>\n",
       "      <td>8</td>\n",
       "      <td>0</td>\n",
       "      <td>0</td>\n",
       "    </tr>\n",
       "    <tr>\n",
       "      <th>3</th>\n",
       "      <td>1</td>\n",
       "      <td>1</td>\n",
       "      <td>1</td>\n",
       "      <td>35</td>\n",
       "      <td>53.1000</td>\n",
       "      <td>3</td>\n",
       "      <td>0</td>\n",
       "      <td>1</td>\n",
       "    </tr>\n",
       "    <tr>\n",
       "      <th>4</th>\n",
       "      <td>0</td>\n",
       "      <td>3</td>\n",
       "      <td>0</td>\n",
       "      <td>35</td>\n",
       "      <td>8.0500</td>\n",
       "      <td>8</td>\n",
       "      <td>0</td>\n",
       "      <td>0</td>\n",
       "    </tr>\n",
       "    <tr>\n",
       "      <th>...</th>\n",
       "      <td>...</td>\n",
       "      <td>...</td>\n",
       "      <td>...</td>\n",
       "      <td>...</td>\n",
       "      <td>...</td>\n",
       "      <td>...</td>\n",
       "      <td>...</td>\n",
       "      <td>...</td>\n",
       "    </tr>\n",
       "    <tr>\n",
       "      <th>886</th>\n",
       "      <td>0</td>\n",
       "      <td>2</td>\n",
       "      <td>0</td>\n",
       "      <td>27</td>\n",
       "      <td>13.0000</td>\n",
       "      <td>8</td>\n",
       "      <td>0</td>\n",
       "      <td>0</td>\n",
       "    </tr>\n",
       "    <tr>\n",
       "      <th>887</th>\n",
       "      <td>1</td>\n",
       "      <td>1</td>\n",
       "      <td>1</td>\n",
       "      <td>19</td>\n",
       "      <td>30.0000</td>\n",
       "      <td>2</td>\n",
       "      <td>0</td>\n",
       "      <td>0</td>\n",
       "    </tr>\n",
       "    <tr>\n",
       "      <th>888</th>\n",
       "      <td>0</td>\n",
       "      <td>3</td>\n",
       "      <td>1</td>\n",
       "      <td>23</td>\n",
       "      <td>23.4500</td>\n",
       "      <td>8</td>\n",
       "      <td>0</td>\n",
       "      <td>3</td>\n",
       "    </tr>\n",
       "    <tr>\n",
       "      <th>889</th>\n",
       "      <td>1</td>\n",
       "      <td>1</td>\n",
       "      <td>0</td>\n",
       "      <td>26</td>\n",
       "      <td>30.0000</td>\n",
       "      <td>3</td>\n",
       "      <td>1</td>\n",
       "      <td>0</td>\n",
       "    </tr>\n",
       "    <tr>\n",
       "      <th>890</th>\n",
       "      <td>0</td>\n",
       "      <td>3</td>\n",
       "      <td>0</td>\n",
       "      <td>32</td>\n",
       "      <td>7.7500</td>\n",
       "      <td>8</td>\n",
       "      <td>2</td>\n",
       "      <td>0</td>\n",
       "    </tr>\n",
       "  </tbody>\n",
       "</table>\n",
       "<p>891 rows × 8 columns</p>\n",
       "</div>"
      ],
      "text/plain": [
       "     Survived  Pclass  Sex  Age     Fare  Cabin  Embarked  Family\n",
       "0           0       3    0   22   7.2500      8         0       1\n",
       "1           1       1    1   38  71.2833      3         1       1\n",
       "2           1       3    1   26   7.9250      8         0       0\n",
       "3           1       1    1   35  53.1000      3         0       1\n",
       "4           0       3    0   35   8.0500      8         0       0\n",
       "..        ...     ...  ...  ...      ...    ...       ...     ...\n",
       "886         0       2    0   27  13.0000      8         0       0\n",
       "887         1       1    1   19  30.0000      2         0       0\n",
       "888         0       3    1   23  23.4500      8         0       3\n",
       "889         1       1    0   26  30.0000      3         1       0\n",
       "890         0       3    0   32   7.7500      8         2       0\n",
       "\n",
       "[891 rows x 8 columns]"
      ]
     },
     "execution_count": 17,
     "metadata": {},
     "output_type": "execute_result"
    }
   ],
   "source": [
    "titanic"
   ]
  },
  {
   "cell_type": "markdown",
   "id": "42c37bf7",
   "metadata": {},
   "source": [
    "  "
   ]
  },
  {
   "cell_type": "markdown",
   "id": "954d54a4",
   "metadata": {},
   "source": [
    "#### CLASSIFICATION ALGORITHMS IMPLEMENTATION"
   ]
  },
  {
   "cell_type": "markdown",
   "id": "3f867615",
   "metadata": {},
   "source": [
    "The brief analysis of the prepared data shows that values in different features varies between different values. Therefore, the values will be normalized. Then Data Set will be divided into X, and Y, with subsequent division into training and test sets with the test_size of 0.2\n",
    "1. Y is 'Survived' column.\n",
    "2. X is all other columns"
   ]
  },
  {
   "cell_type": "code",
   "execution_count": 18,
   "id": "e704d807",
   "metadata": {},
   "outputs": [
    {
     "data": {
      "text/html": [
       "<div>\n",
       "<style scoped>\n",
       "    .dataframe tbody tr th:only-of-type {\n",
       "        vertical-align: middle;\n",
       "    }\n",
       "\n",
       "    .dataframe tbody tr th {\n",
       "        vertical-align: top;\n",
       "    }\n",
       "\n",
       "    .dataframe thead th {\n",
       "        text-align: right;\n",
       "    }\n",
       "</style>\n",
       "<table border=\"1\" class=\"dataframe\">\n",
       "  <thead>\n",
       "    <tr style=\"text-align: right;\">\n",
       "      <th></th>\n",
       "      <th>Survived</th>\n",
       "      <th>Pclass</th>\n",
       "      <th>Sex</th>\n",
       "      <th>Age</th>\n",
       "      <th>Fare</th>\n",
       "      <th>Cabin</th>\n",
       "      <th>Embarked</th>\n",
       "      <th>Family</th>\n",
       "    </tr>\n",
       "  </thead>\n",
       "  <tbody>\n",
       "    <tr>\n",
       "      <th>0</th>\n",
       "      <td>0</td>\n",
       "      <td>3</td>\n",
       "      <td>0</td>\n",
       "      <td>22</td>\n",
       "      <td>7.2500</td>\n",
       "      <td>8</td>\n",
       "      <td>0</td>\n",
       "      <td>1</td>\n",
       "    </tr>\n",
       "    <tr>\n",
       "      <th>1</th>\n",
       "      <td>1</td>\n",
       "      <td>1</td>\n",
       "      <td>1</td>\n",
       "      <td>38</td>\n",
       "      <td>71.2833</td>\n",
       "      <td>3</td>\n",
       "      <td>1</td>\n",
       "      <td>1</td>\n",
       "    </tr>\n",
       "    <tr>\n",
       "      <th>2</th>\n",
       "      <td>1</td>\n",
       "      <td>3</td>\n",
       "      <td>1</td>\n",
       "      <td>26</td>\n",
       "      <td>7.9250</td>\n",
       "      <td>8</td>\n",
       "      <td>0</td>\n",
       "      <td>0</td>\n",
       "    </tr>\n",
       "    <tr>\n",
       "      <th>3</th>\n",
       "      <td>1</td>\n",
       "      <td>1</td>\n",
       "      <td>1</td>\n",
       "      <td>35</td>\n",
       "      <td>53.1000</td>\n",
       "      <td>3</td>\n",
       "      <td>0</td>\n",
       "      <td>1</td>\n",
       "    </tr>\n",
       "    <tr>\n",
       "      <th>4</th>\n",
       "      <td>0</td>\n",
       "      <td>3</td>\n",
       "      <td>0</td>\n",
       "      <td>35</td>\n",
       "      <td>8.0500</td>\n",
       "      <td>8</td>\n",
       "      <td>0</td>\n",
       "      <td>0</td>\n",
       "    </tr>\n",
       "    <tr>\n",
       "      <th>...</th>\n",
       "      <td>...</td>\n",
       "      <td>...</td>\n",
       "      <td>...</td>\n",
       "      <td>...</td>\n",
       "      <td>...</td>\n",
       "      <td>...</td>\n",
       "      <td>...</td>\n",
       "      <td>...</td>\n",
       "    </tr>\n",
       "    <tr>\n",
       "      <th>886</th>\n",
       "      <td>0</td>\n",
       "      <td>2</td>\n",
       "      <td>0</td>\n",
       "      <td>27</td>\n",
       "      <td>13.0000</td>\n",
       "      <td>8</td>\n",
       "      <td>0</td>\n",
       "      <td>0</td>\n",
       "    </tr>\n",
       "    <tr>\n",
       "      <th>887</th>\n",
       "      <td>1</td>\n",
       "      <td>1</td>\n",
       "      <td>1</td>\n",
       "      <td>19</td>\n",
       "      <td>30.0000</td>\n",
       "      <td>2</td>\n",
       "      <td>0</td>\n",
       "      <td>0</td>\n",
       "    </tr>\n",
       "    <tr>\n",
       "      <th>888</th>\n",
       "      <td>0</td>\n",
       "      <td>3</td>\n",
       "      <td>1</td>\n",
       "      <td>23</td>\n",
       "      <td>23.4500</td>\n",
       "      <td>8</td>\n",
       "      <td>0</td>\n",
       "      <td>3</td>\n",
       "    </tr>\n",
       "    <tr>\n",
       "      <th>889</th>\n",
       "      <td>1</td>\n",
       "      <td>1</td>\n",
       "      <td>0</td>\n",
       "      <td>26</td>\n",
       "      <td>30.0000</td>\n",
       "      <td>3</td>\n",
       "      <td>1</td>\n",
       "      <td>0</td>\n",
       "    </tr>\n",
       "    <tr>\n",
       "      <th>890</th>\n",
       "      <td>0</td>\n",
       "      <td>3</td>\n",
       "      <td>0</td>\n",
       "      <td>32</td>\n",
       "      <td>7.7500</td>\n",
       "      <td>8</td>\n",
       "      <td>2</td>\n",
       "      <td>0</td>\n",
       "    </tr>\n",
       "  </tbody>\n",
       "</table>\n",
       "<p>891 rows × 8 columns</p>\n",
       "</div>"
      ],
      "text/plain": [
       "     Survived  Pclass  Sex  Age     Fare  Cabin  Embarked  Family\n",
       "0           0       3    0   22   7.2500      8         0       1\n",
       "1           1       1    1   38  71.2833      3         1       1\n",
       "2           1       3    1   26   7.9250      8         0       0\n",
       "3           1       1    1   35  53.1000      3         0       1\n",
       "4           0       3    0   35   8.0500      8         0       0\n",
       "..        ...     ...  ...  ...      ...    ...       ...     ...\n",
       "886         0       2    0   27  13.0000      8         0       0\n",
       "887         1       1    1   19  30.0000      2         0       0\n",
       "888         0       3    1   23  23.4500      8         0       3\n",
       "889         1       1    0   26  30.0000      3         1       0\n",
       "890         0       3    0   32   7.7500      8         2       0\n",
       "\n",
       "[891 rows x 8 columns]"
      ]
     },
     "execution_count": 18,
     "metadata": {},
     "output_type": "execute_result"
    }
   ],
   "source": [
    "titanic"
   ]
  },
  {
   "cell_type": "code",
   "execution_count": 19,
   "id": "040ef90c",
   "metadata": {},
   "outputs": [],
   "source": [
    "X = titanic.drop(\"Survived\", axis=1)\n",
    "Y = titanic[\"Survived\"]"
   ]
  },
  {
   "cell_type": "code",
   "execution_count": 20,
   "id": "e628313d",
   "metadata": {},
   "outputs": [
    {
     "name": "stdout",
     "output_type": "stream",
     "text": [
      "X_train_shape: (712, 7)\n",
      "X_test_shape: (179, 7)\n",
      "y_train_shape: (712,)\n",
      "y_test_shape: (179,)\n"
     ]
    }
   ],
   "source": [
    "np.random.seed(42)\n",
    "X_train, X_test, y_train, y_test= train_test_split(X, Y, random_state=100, test_size=0.2)\n",
    "print('X_train_shape: ' + str(X_train.shape) + '\\nX_test_shape: ' + str(X_test.shape)\\\n",
    "       + '\\ny_train_shape: ' + str(y_train.shape) + '\\ny_test_shape: ' + str(y_test.shape))"
   ]
  },
  {
   "cell_type": "code",
   "execution_count": 21,
   "id": "bbcd6e0f",
   "metadata": {},
   "outputs": [],
   "source": [
    "scaler = StandardScaler()\n",
    "scaler.fit(X_train)\n",
    "X_train_scaled = scaler.transform(X_train)\n",
    "X_test_scaled = scaler.transform(X_test)"
   ]
  },
  {
   "cell_type": "markdown",
   "id": "11ebb1e5",
   "metadata": {},
   "source": [
    "For the purpose of comparision, the preprocessed data will be first tested for accuracy in Random Forest, Decision Tree, kNN, and AdaBoost with their default hyperparameters"
   ]
  },
  {
   "cell_type": "code",
   "execution_count": 22,
   "id": "00a1e551",
   "metadata": {},
   "outputs": [],
   "source": [
    "def RandomForestTrainTest(X_train, y_train, X_test, y_test):\n",
    "    clf = RandomForestClassifier()\n",
    "    clf.fit(X_train, y_train)\n",
    "    accuracy_train = round(clf.score(X_train, y_train) * 100, 2)\n",
    "    accuracy_test = round(clf.score(X_test, y_test) * 100, 2)\n",
    "    return accuracy_train, accuracy_test\n",
    "\n",
    "def DecisionTreeTrainTest(X_train, y_train, X_test, y_test):\n",
    "    clf = DecisionTreeClassifier()\n",
    "    clf.fit(X_train, y_train)\n",
    "    accuracy_train = round(clf.score(X_train, y_train) * 100, 2)\n",
    "    accuracy_test = round(clf.score(X_test, y_test) * 100, 2)\n",
    "    return accuracy_train, accuracy_test\n",
    "\n",
    "def AdaBoostTrainTest(X_train, y_train, X_test, y_test):\n",
    "    clf = AdaBoostClassifier()\n",
    "    clf.fit(X_train, y_train)\n",
    "    accuracy_train = round(clf.score(X_train, y_train) * 100, 2)\n",
    "    accuracy_test = round(clf.score(X_test, y_test) * 100, 2)\n",
    "    return accuracy_train, accuracy_test\n",
    "\n",
    "def KNNTrainTest(X_train, y_train, X_test, y_test):\n",
    "    clf = KNeighborsClassifier(n_neighbors=3)\n",
    "    clf.fit(X_train, y_train)\n",
    "    accuracy_train = round(clf.score(X_train, y_train) * 100, 2)\n",
    "    accuracy_test = round(clf.score(X_test, y_test) * 100, 2)\n",
    "    return accuracy_train, accuracy_test"
   ]
  },
  {
   "cell_type": "markdown",
   "id": "5557d540",
   "metadata": {},
   "source": [
    "After the normalization, data is passed into four functions which return test and training accuracy values"
   ]
  },
  {
   "cell_type": "code",
   "execution_count": 23,
   "id": "d8de1f87",
   "metadata": {},
   "outputs": [
    {
     "data": {
      "text/html": [
       "<div>\n",
       "<style scoped>\n",
       "    .dataframe tbody tr th:only-of-type {\n",
       "        vertical-align: middle;\n",
       "    }\n",
       "\n",
       "    .dataframe tbody tr th {\n",
       "        vertical-align: top;\n",
       "    }\n",
       "\n",
       "    .dataframe thead th {\n",
       "        text-align: right;\n",
       "    }\n",
       "</style>\n",
       "<table border=\"1\" class=\"dataframe\">\n",
       "  <thead>\n",
       "    <tr style=\"text-align: right;\">\n",
       "      <th></th>\n",
       "      <th>Model</th>\n",
       "      <th>Training Score</th>\n",
       "      <th>Test Score</th>\n",
       "    </tr>\n",
       "  </thead>\n",
       "  <tbody>\n",
       "    <tr>\n",
       "      <th>0</th>\n",
       "      <td>KNN</td>\n",
       "      <td>83.99</td>\n",
       "      <td>70.39</td>\n",
       "    </tr>\n",
       "    <tr>\n",
       "      <th>1</th>\n",
       "      <td>Random Forest</td>\n",
       "      <td>99.02</td>\n",
       "      <td>83.24</td>\n",
       "    </tr>\n",
       "    <tr>\n",
       "      <th>2</th>\n",
       "      <td>Decision Tree</td>\n",
       "      <td>99.02</td>\n",
       "      <td>77.09</td>\n",
       "    </tr>\n",
       "    <tr>\n",
       "      <th>3</th>\n",
       "      <td>AdaBoost</td>\n",
       "      <td>83.99</td>\n",
       "      <td>82.12</td>\n",
       "    </tr>\n",
       "  </tbody>\n",
       "</table>\n",
       "</div>"
      ],
      "text/plain": [
       "           Model  Training Score  Test Score\n",
       "0            KNN           83.99       70.39\n",
       "1  Random Forest           99.02       83.24\n",
       "2  Decision Tree           99.02       77.09\n",
       "3       AdaBoost           83.99       82.12"
      ]
     },
     "execution_count": 23,
     "metadata": {},
     "output_type": "execute_result"
    }
   ],
   "source": [
    "knn_train, knn_test = KNNTrainTest(X_train, y_train, X_test, y_test)\n",
    "rf_train, rf_test = RandomForestTrainTest(X_train, y_train, X_test, y_test)\n",
    "dt_train, dt_test = DecisionTreeTrainTest(X_train, y_train, X_test, y_test)\n",
    "ab_train, ab_test = AdaBoostTrainTest(X_train, y_train, X_test, y_test)\n",
    "\n",
    "results_clf = pd.DataFrame({\n",
    "    'Model': ['KNN',\n",
    "              'Random Forest', \n",
    "              'Decision Tree', \n",
    "              'AdaBoost'],\n",
    "    'Training Score': [knn_train, rf_train, dt_train, ab_train],\n",
    "    'Test Score': [knn_test, rf_test, dt_test, ab_test]})\n",
    "results_clf"
   ]
  },
  {
   "cell_type": "markdown",
   "id": "4f6012c3",
   "metadata": {},
   "source": [
    "The training score for Random Forest and Decision Tree are the highest ones making both 99%. However, in 3 of 4 cases test score significantly slower in comparison with training score. These are the results obtained from the state-of-the-art algorithms. To compare these with those after kPCA/tSNE, dimensionality reduction should be implemented."
   ]
  },
  {
   "cell_type": "markdown",
   "id": "1d91d146",
   "metadata": {},
   "source": [
    "  "
   ]
  },
  {
   "cell_type": "markdown",
   "id": "de1067db",
   "metadata": {},
   "source": [
    "#### THEORETICAL EXPLANATION OF TSNE AND KPCA"
   ]
  },
  {
   "cell_type": "markdown",
   "id": "6ee6b33e",
   "metadata": {},
   "source": [
    "The main benefit of Dimensionality Reduction is in the opportunity of visualizing the high dimensional data in 2d or 3d plane if the dimension is reduced to 2 and 3 respectively. By implementing reduction, there will a chance to see how the data is spread in different dimensions. The visualization could give a pattern by which two classes are defined either in two-dimensional or three-dimensional space. Utilization of Principal Component Analysis in anomaly detection problems with Search Vectro Machines [6] outputted more accurate results than using the classification without PCA. The same trend can be noticed in Medical Diagnosis where the dimensionality reduction using genetic algorithm produced better accuracy [7]. The popular techniques of dimensionality reduction are kernel Principal Component Analysis and t-distributed Stochastic Neighbor Embedding. "
   ]
  },
  {
   "cell_type": "markdown",
   "id": "ed630ece",
   "metadata": {},
   "source": [
    "***tSNE explained***"
   ]
  },
  {
   "cell_type": "markdown",
   "id": "24e03214",
   "metadata": {},
   "source": [
    "tSNE is a non-linear dimensionality reduction technique. It consists of two operations:\n",
    "1. Computation of pairwise similarities between instances, and\n",
    "2. Conversion into neighborhood probability. \n",
    "\n",
    "If $x_{i}$ and $x_{j}$ instances are given, then their probabilty of neighborhood is calculated via \n",
    "$p_{ij}=(p_{j|i}+\\ p_{i|j})/2n$ [8], where n is the instance number. And ${p_{j|i}}$ is calculated as [9] \n",
    "<img src=\"supplementary/f1.png\" />\n",
    "Here $σ_{i}$ is determined automatically. It is the coincidence of the effective number of neighbors with the preplexity.\n",
    "In the space where the tSNE is projected, probability is calculated by Student t-distribution.\n",
    "<img src=\"supplementary/f2.png\" />\n",
    "The goal here is to find $y_{i}$ such that the difference between $p_{ij}$ and $q_{ij}$ becomes small according to Kullback-Leibler divergence.\n",
    "The one thing to note also is that tSNE relies on gradient based technique."
   ]
  },
  {
   "cell_type": "markdown",
   "id": "a885ff6d",
   "metadata": {},
   "source": [
    "***kPCA explained***"
   ]
  },
  {
   "cell_type": "markdown",
   "id": "d85e45f8",
   "metadata": {},
   "source": [
    "Kernel PCA extends standard PCA. But before performing standard PCA calculation, the data points are mapped to higher-order function $x_{i} -> ϕ(x_{i})$, where ϕ is mapping function [10].\n",
    "\n",
    "The calculation of kernel PCA starts with the computation of the dot products mapped by ϕ,  however the disadvantage of this approach is in high computational cost. Therefore to omit the computational cost, the dot product is represented as follows: \n",
    "$k(x_{i}, x_{j}) = (ϕ(x_{i}),ϕ(x_{j})) = ϕ(x_{i})^{T}*ϕ(x_{j})$ [11]."
   ]
  },
  {
   "cell_type": "markdown",
   "id": "4f474103",
   "metadata": {},
   "source": [
    "  "
   ]
  },
  {
   "cell_type": "markdown",
   "id": "2eb1b907",
   "metadata": {},
   "source": [
    "#### DIMENSIONALITY REDUCTION IMPLEMENTATION"
   ]
  },
  {
   "cell_type": "markdown",
   "id": "e2852a02",
   "metadata": {},
   "source": [
    "Both kPCA and tSNE as a dimensions defines n_components attribute. If 2 is set, then obtained data can be drawn in 2-d plane, while in case of 3 components, it can be visualized in 3d. Below are the functions for kPCA and tSNE transformation, as well as their visualization in 2d and 3d plane."
   ]
  },
  {
   "cell_type": "code",
   "execution_count": 24,
   "id": "dfcf39ea",
   "metadata": {},
   "outputs": [],
   "source": [
    "def kPCA_transformation(X, components):\n",
    "    np.random.seed(42)\n",
    "    kPCA = KernelPCA(n_components=components, kernel='cosine', random_state=42)\n",
    "    z = kPCA.fit_transform(X)\n",
    "    return z\n",
    "\n",
    "def tSNE_transformation(X, components):\n",
    "    np.random.seed(42)\n",
    "    tsne = TSNE(n_components=components, square_distances=True, random_state=42)\n",
    "    z = tsne.fit_transform(X)\n",
    "    return z\n",
    "\n",
    "def plot_2d(z,Y):\n",
    "    df = pd.DataFrame()\n",
    "    df[\"y\"] = Y\n",
    "    df[\"comp-1\"] = z[:,0]\n",
    "    df[\"comp-2\"] = z[:,1]\n",
    "\n",
    "    sns.scatterplot(x=\"comp-1\", y=\"comp-2\", hue=df.y.tolist(), palette=sns.color_palette(\"hls\", 2),\n",
    "                    data=df)\n",
    "    plt.show()\n",
    "    \n",
    "def plot_3d(X_new,Y):\n",
    "    df = pd.DataFrame(Y)\n",
    "    df['Survived'] = df['Survived'].map({0:'r',1:'g'})\n",
    "    \n",
    "    fig = plt.figure()\n",
    "    ax = fig.add_subplot(projection='3d')\n",
    "\n",
    "    xs = X_new[:,0]\n",
    "    ys = X_new[:,1]\n",
    "    zs = X_new[:,2]\n",
    "    ax.scatter(xs, ys, zs, color=df['Survived'])\n",
    "\n",
    "    ax.set_xlabel('X Label')\n",
    "    ax.set_ylabel('Y Label')\n",
    "    ax.set_zlabel('Z Label')\n",
    "\n",
    "    plt.show()"
   ]
  },
  {
   "cell_type": "code",
   "execution_count": 25,
   "id": "dc3394df",
   "metadata": {},
   "outputs": [],
   "source": [
    "kPCA_2d = kPCA_transformation(X, 2)\n",
    "kPCA_3d = kPCA_transformation(X, 3)\n",
    "\n",
    "tSNE_2d = tSNE_transformation(X, 2)\n",
    "tSNE_3d = tSNE_transformation(X, 3)"
   ]
  },
  {
   "cell_type": "markdown",
   "id": "ec439340",
   "metadata": {},
   "source": [
    "As it can be seen from the below visualizations, the spread of the points are colored according to their class, it can give an insight on how to classify the test data by finding the hidden pattern."
   ]
  },
  {
   "cell_type": "code",
   "execution_count": 26,
   "id": "a8349764",
   "metadata": {},
   "outputs": [
    {
     "name": "stdout",
     "output_type": "stream",
     "text": [
      "kPCA in 2d\n"
     ]
    },
    {
     "data": {
      "image/png": "[encoded data removed]",
      "text/plain": [
       "<Figure size 432x288 with 1 Axes>"
      ]
     },
     "metadata": {
      "needs_background": "light"
     },
     "output_type": "display_data"
    }
   ],
   "source": [
    "print('kPCA in 2d')\n",
    "plot_2d(kPCA_2d, Y)"
   ]
  },
  {
   "cell_type": "code",
   "execution_count": 27,
   "id": "6a0ceb22",
   "metadata": {},
   "outputs": [
    {
     "name": "stdout",
     "output_type": "stream",
     "text": [
      "tSNE in 2d\n"
     ]
    },
    {
     "data": {
      "image/png": "[encoded data removed]",
      "text/plain": [
       "<Figure size 432x288 with 1 Axes>"
      ]
     },
     "metadata": {
      "needs_background": "light"
     },
     "output_type": "display_data"
    }
   ],
   "source": [
    "print('tSNE in 2d')\n",
    "plot_2d(tSNE_2d, Y)"
   ]
  },
  {
   "cell_type": "markdown",
   "id": "99000dc4",
   "metadata": {},
   "source": [
    "AS it is seen from the plots, in two-dimensional space it is hard to find a patter that could differentiate classes."
   ]
  },
  {
   "cell_type": "markdown",
   "id": "7d38ae29",
   "metadata": {},
   "source": [
    "There are might be cases when the pattern can not be noticed in 2d plane, therefore sometimes it will be usefull to plot the data in 3d plane"
   ]
  },
  {
   "cell_type": "code",
   "execution_count": 28,
   "id": "c0b7ef6f",
   "metadata": {},
   "outputs": [
    {
     "name": "stdout",
     "output_type": "stream",
     "text": [
      "kPCA in 3d\n"
     ]
    },
    {
     "data": {
      "image/png": "[encoded data removed]",
      "text/plain": [
       "<Figure size 432x288 with 1 Axes>"
      ]
     },
     "metadata": {
      "needs_background": "light"
     },
     "output_type": "display_data"
    }
   ],
   "source": [
    "print('kPCA in 3d')\n",
    "plot_3d(kPCA_3d, Y)"
   ]
  },
  {
   "cell_type": "code",
   "execution_count": 29,
   "id": "19318e74",
   "metadata": {},
   "outputs": [
    {
     "name": "stdout",
     "output_type": "stream",
     "text": [
      "tSNE in 3d\n"
     ]
    },
    {
     "data": {
      "image/png": "[encoded data removed]",
      "text/plain": [
       "<Figure size 432x288 with 1 Axes>"
      ]
     },
     "metadata": {
      "needs_background": "light"
     },
     "output_type": "display_data"
    }
   ],
   "source": [
    "print('tSNE in 3d')\n",
    "plot_3d(tSNE_3d, Y)"
   ]
  },
  {
   "cell_type": "markdown",
   "id": "a471a3c3",
   "metadata": {},
   "source": [
    "Here the pattern also could not be easily noticed. Nevertheless, to see how the reduced data can perform in classification algorithms, it will be passed to before mentioned algorithm functions."
   ]
  },
  {
   "cell_type": "markdown",
   "id": "d8efc16d",
   "metadata": {},
   "source": [
    "Now there are four datasets obtained after dimensionality reduction:\n",
    "1. kPCA with n_components = 2\n",
    "2. tSNE with n_components = 2\n",
    "3. kPCA with n_components = 3\n",
    "4. tSNE with n_components = 3\n",
    "\n",
    "All these four dataset will be passed to classification algorithms for further investigation and comparision with state-of-the-art classification algorithms with the data that was not reduced in terms of dimensionality"
   ]
  },
  {
   "cell_type": "markdown",
   "id": "dd72a5cc",
   "metadata": {},
   "source": [
    "Training the data obtained after kPCA with 2 components"
   ]
  },
  {
   "cell_type": "code",
   "execution_count": 30,
   "id": "5b32b224",
   "metadata": {},
   "outputs": [
    {
     "name": "stdout",
     "output_type": "stream",
     "text": [
      "X_train_shape: (712, 2)\n",
      "X_test_shape: (179, 2)\n",
      "y_train_shape: (712,)\n",
      "y_test_shape: (179,)\n"
     ]
    }
   ],
   "source": [
    "np.random.seed(42)\n",
    "X_train, X_test, y_train, y_test= train_test_split(kPCA_2d, Y, random_state=100, test_size=0.2)\n",
    "print('X_train_shape: ' + str(X_train.shape) + '\\nX_test_shape: ' + str(X_test.shape)\\\n",
    "       + '\\ny_train_shape: ' + str(y_train.shape) + '\\ny_test_shape: ' + str(y_test.shape))"
   ]
  },
  {
   "cell_type": "code",
   "execution_count": 31,
   "id": "aec065c0",
   "metadata": {},
   "outputs": [
    {
     "data": {
      "text/html": [
       "<div>\n",
       "<style scoped>\n",
       "    .dataframe tbody tr th:only-of-type {\n",
       "        vertical-align: middle;\n",
       "    }\n",
       "\n",
       "    .dataframe tbody tr th {\n",
       "        vertical-align: top;\n",
       "    }\n",
       "\n",
       "    .dataframe thead th {\n",
       "        text-align: right;\n",
       "    }\n",
       "</style>\n",
       "<table border=\"1\" class=\"dataframe\">\n",
       "  <thead>\n",
       "    <tr style=\"text-align: right;\">\n",
       "      <th></th>\n",
       "      <th>Model</th>\n",
       "      <th>Training Score</th>\n",
       "      <th>Test Score</th>\n",
       "    </tr>\n",
       "  </thead>\n",
       "  <tbody>\n",
       "    <tr>\n",
       "      <th>0</th>\n",
       "      <td>KNN</td>\n",
       "      <td>80.20</td>\n",
       "      <td>65.36</td>\n",
       "    </tr>\n",
       "    <tr>\n",
       "      <th>1</th>\n",
       "      <td>Random Forest</td>\n",
       "      <td>99.02</td>\n",
       "      <td>67.60</td>\n",
       "    </tr>\n",
       "    <tr>\n",
       "      <th>2</th>\n",
       "      <td>Decision Tree</td>\n",
       "      <td>99.02</td>\n",
       "      <td>62.01</td>\n",
       "    </tr>\n",
       "    <tr>\n",
       "      <th>3</th>\n",
       "      <td>AdaBoost</td>\n",
       "      <td>74.30</td>\n",
       "      <td>67.04</td>\n",
       "    </tr>\n",
       "  </tbody>\n",
       "</table>\n",
       "</div>"
      ],
      "text/plain": [
       "           Model  Training Score  Test Score\n",
       "0            KNN           80.20       65.36\n",
       "1  Random Forest           99.02       67.60\n",
       "2  Decision Tree           99.02       62.01\n",
       "3       AdaBoost           74.30       67.04"
      ]
     },
     "execution_count": 31,
     "metadata": {},
     "output_type": "execute_result"
    }
   ],
   "source": [
    "knn_train, knn_test = KNNTrainTest(X_train, y_train, X_test, y_test)\n",
    "rf_train, rf_test = RandomForestTrainTest(X_train, y_train, X_test, y_test)\n",
    "dt_train, dt_test = DecisionTreeTrainTest(X_train, y_train, X_test, y_test)\n",
    "ab_train, ab_test = AdaBoostTrainTest(X_train, y_train, X_test, y_test)\n",
    "\n",
    "results_kpca2d = pd.DataFrame({\n",
    "    'Model': ['KNN',\n",
    "              'Random Forest', \n",
    "              'Decision Tree', \n",
    "              'AdaBoost'],\n",
    "    'Training Score': [knn_train, rf_train, dt_train, ab_train],\n",
    "    'Test Score': [knn_test, rf_test, dt_test, ab_test]})\n",
    "results_kpca2d"
   ]
  },
  {
   "cell_type": "markdown",
   "id": "8a28a430",
   "metadata": {},
   "source": [
    "Training the data obtained after tSNE with 2 components"
   ]
  },
  {
   "cell_type": "code",
   "execution_count": 32,
   "id": "02cd9da9",
   "metadata": {},
   "outputs": [
    {
     "name": "stdout",
     "output_type": "stream",
     "text": [
      "X_train_shape: (712, 2)\n",
      "X_test_shape: (179, 2)\n",
      "y_train_shape: (712,)\n",
      "y_test_shape: (179,)\n"
     ]
    }
   ],
   "source": [
    "np.random.seed(42)\n",
    "X_train, X_test, y_train, y_test= train_test_split(tSNE_2d, Y, random_state=100, test_size=0.2)\n",
    "print('X_train_shape: ' + str(X_train.shape) + '\\nX_test_shape: ' + str(X_test.shape)\\\n",
    "       + '\\ny_train_shape: ' + str(y_train.shape) + '\\ny_test_shape: ' + str(y_test.shape))"
   ]
  },
  {
   "cell_type": "code",
   "execution_count": 33,
   "id": "1bb524f8",
   "metadata": {},
   "outputs": [
    {
     "data": {
      "text/html": [
       "<div>\n",
       "<style scoped>\n",
       "    .dataframe tbody tr th:only-of-type {\n",
       "        vertical-align: middle;\n",
       "    }\n",
       "\n",
       "    .dataframe tbody tr th {\n",
       "        vertical-align: top;\n",
       "    }\n",
       "\n",
       "    .dataframe thead th {\n",
       "        text-align: right;\n",
       "    }\n",
       "</style>\n",
       "<table border=\"1\" class=\"dataframe\">\n",
       "  <thead>\n",
       "    <tr style=\"text-align: right;\">\n",
       "      <th></th>\n",
       "      <th>Model</th>\n",
       "      <th>Training Score</th>\n",
       "      <th>Test Score</th>\n",
       "    </tr>\n",
       "  </thead>\n",
       "  <tbody>\n",
       "    <tr>\n",
       "      <th>0</th>\n",
       "      <td>KNN</td>\n",
       "      <td>83.43</td>\n",
       "      <td>66.48</td>\n",
       "    </tr>\n",
       "    <tr>\n",
       "      <th>1</th>\n",
       "      <td>Random Forest</td>\n",
       "      <td>99.86</td>\n",
       "      <td>67.04</td>\n",
       "    </tr>\n",
       "    <tr>\n",
       "      <th>2</th>\n",
       "      <td>Decision Tree</td>\n",
       "      <td>99.86</td>\n",
       "      <td>68.16</td>\n",
       "    </tr>\n",
       "    <tr>\n",
       "      <th>3</th>\n",
       "      <td>AdaBoost</td>\n",
       "      <td>72.61</td>\n",
       "      <td>68.72</td>\n",
       "    </tr>\n",
       "  </tbody>\n",
       "</table>\n",
       "</div>"
      ],
      "text/plain": [
       "           Model  Training Score  Test Score\n",
       "0            KNN           83.43       66.48\n",
       "1  Random Forest           99.86       67.04\n",
       "2  Decision Tree           99.86       68.16\n",
       "3       AdaBoost           72.61       68.72"
      ]
     },
     "execution_count": 33,
     "metadata": {},
     "output_type": "execute_result"
    }
   ],
   "source": [
    "knn_train, knn_test = KNNTrainTest(X_train, y_train, X_test, y_test)\n",
    "rf_train, rf_test = RandomForestTrainTest(X_train, y_train, X_test, y_test)\n",
    "dt_train, dt_test = DecisionTreeTrainTest(X_train, y_train, X_test, y_test)\n",
    "ab_train, ab_test = AdaBoostTrainTest(X_train, y_train, X_test, y_test)\n",
    "\n",
    "results_tsne2d = pd.DataFrame({\n",
    "    'Model': ['KNN',\n",
    "              'Random Forest', \n",
    "              'Decision Tree', \n",
    "              'AdaBoost'],\n",
    "    'Training Score': [knn_train, rf_train, dt_train, ab_train],\n",
    "    'Test Score': [knn_test, rf_test, dt_test, ab_test]})\n",
    "results_tsne2d"
   ]
  },
  {
   "cell_type": "markdown",
   "id": "e98c5f8d",
   "metadata": {},
   "source": [
    "Training the data obtained after kPCA with 3 components"
   ]
  },
  {
   "cell_type": "code",
   "execution_count": 34,
   "id": "8a526747",
   "metadata": {},
   "outputs": [
    {
     "name": "stdout",
     "output_type": "stream",
     "text": [
      "X_train_shape: (712, 3)\n",
      "X_test_shape: (179, 3)\n",
      "y_train_shape: (712,)\n",
      "y_test_shape: (179,)\n"
     ]
    }
   ],
   "source": [
    "np.random.seed(42)\n",
    "X_train, X_test, y_train, y_test= train_test_split(kPCA_3d, Y, random_state=100, test_size=0.2)\n",
    "print('X_train_shape: ' + str(X_train.shape) + '\\nX_test_shape: ' + str(X_test.shape)\\\n",
    "       + '\\ny_train_shape: ' + str(y_train.shape) + '\\ny_test_shape: ' + str(y_test.shape))"
   ]
  },
  {
   "cell_type": "code",
   "execution_count": 35,
   "id": "0411501d",
   "metadata": {},
   "outputs": [
    {
     "data": {
      "text/html": [
       "<div>\n",
       "<style scoped>\n",
       "    .dataframe tbody tr th:only-of-type {\n",
       "        vertical-align: middle;\n",
       "    }\n",
       "\n",
       "    .dataframe tbody tr th {\n",
       "        vertical-align: top;\n",
       "    }\n",
       "\n",
       "    .dataframe thead th {\n",
       "        text-align: right;\n",
       "    }\n",
       "</style>\n",
       "<table border=\"1\" class=\"dataframe\">\n",
       "  <thead>\n",
       "    <tr style=\"text-align: right;\">\n",
       "      <th></th>\n",
       "      <th>Model</th>\n",
       "      <th>Training Score</th>\n",
       "      <th>Test Score</th>\n",
       "    </tr>\n",
       "  </thead>\n",
       "  <tbody>\n",
       "    <tr>\n",
       "      <th>0</th>\n",
       "      <td>KNN</td>\n",
       "      <td>81.32</td>\n",
       "      <td>65.92</td>\n",
       "    </tr>\n",
       "    <tr>\n",
       "      <th>1</th>\n",
       "      <td>Random Forest</td>\n",
       "      <td>99.02</td>\n",
       "      <td>66.48</td>\n",
       "    </tr>\n",
       "    <tr>\n",
       "      <th>2</th>\n",
       "      <td>Decision Tree</td>\n",
       "      <td>99.02</td>\n",
       "      <td>58.66</td>\n",
       "    </tr>\n",
       "    <tr>\n",
       "      <th>3</th>\n",
       "      <td>AdaBoost</td>\n",
       "      <td>74.86</td>\n",
       "      <td>65.92</td>\n",
       "    </tr>\n",
       "  </tbody>\n",
       "</table>\n",
       "</div>"
      ],
      "text/plain": [
       "           Model  Training Score  Test Score\n",
       "0            KNN           81.32       65.92\n",
       "1  Random Forest           99.02       66.48\n",
       "2  Decision Tree           99.02       58.66\n",
       "3       AdaBoost           74.86       65.92"
      ]
     },
     "execution_count": 35,
     "metadata": {},
     "output_type": "execute_result"
    }
   ],
   "source": [
    "knn_train, knn_test = KNNTrainTest(X_train, y_train, X_test, y_test)\n",
    "rf_train, rf_test = RandomForestTrainTest(X_train, y_train, X_test, y_test)\n",
    "dt_train, dt_test = DecisionTreeTrainTest(X_train, y_train, X_test, y_test)\n",
    "ab_train, ab_test = AdaBoostTrainTest(X_train, y_train, X_test, y_test)\n",
    "\n",
    "results_kpca3d = pd.DataFrame({\n",
    "    'Model': ['KNN',\n",
    "              'Random Forest', \n",
    "              'Decision Tree', \n",
    "              'AdaBoost'],\n",
    "    'Training Score': [knn_train, rf_train, dt_train, ab_train],\n",
    "    'Test Score': [knn_test, rf_test, dt_test, ab_test]})\n",
    "results_kpca3d"
   ]
  },
  {
   "cell_type": "markdown",
   "id": "aaf794bc",
   "metadata": {},
   "source": [
    "Training the data obtained after tSNE with 3 components"
   ]
  },
  {
   "cell_type": "code",
   "execution_count": 36,
   "id": "99d730cd",
   "metadata": {},
   "outputs": [
    {
     "name": "stdout",
     "output_type": "stream",
     "text": [
      "X_train_shape: (712, 3)\n",
      "X_test_shape: (179, 3)\n",
      "y_train_shape: (712,)\n",
      "y_test_shape: (179,)\n"
     ]
    }
   ],
   "source": [
    "np.random.seed(42)\n",
    "X_train, X_test, y_train, y_test= train_test_split(tSNE_3d, Y, random_state=100, test_size=0.2)\n",
    "print('X_train_shape: ' + str(X_train.shape) + '\\nX_test_shape: ' + str(X_test.shape)\\\n",
    "       + '\\ny_train_shape: ' + str(y_train.shape) + '\\ny_test_shape: ' + str(y_test.shape))"
   ]
  },
  {
   "cell_type": "code",
   "execution_count": 37,
   "id": "dca789fe",
   "metadata": {},
   "outputs": [
    {
     "data": {
      "text/html": [
       "<div>\n",
       "<style scoped>\n",
       "    .dataframe tbody tr th:only-of-type {\n",
       "        vertical-align: middle;\n",
       "    }\n",
       "\n",
       "    .dataframe tbody tr th {\n",
       "        vertical-align: top;\n",
       "    }\n",
       "\n",
       "    .dataframe thead th {\n",
       "        text-align: right;\n",
       "    }\n",
       "</style>\n",
       "<table border=\"1\" class=\"dataframe\">\n",
       "  <thead>\n",
       "    <tr style=\"text-align: right;\">\n",
       "      <th></th>\n",
       "      <th>Model</th>\n",
       "      <th>Training Score</th>\n",
       "      <th>Test Score</th>\n",
       "    </tr>\n",
       "  </thead>\n",
       "  <tbody>\n",
       "    <tr>\n",
       "      <th>0</th>\n",
       "      <td>KNN</td>\n",
       "      <td>83.43</td>\n",
       "      <td>65.92</td>\n",
       "    </tr>\n",
       "    <tr>\n",
       "      <th>1</th>\n",
       "      <td>Random Forest</td>\n",
       "      <td>99.72</td>\n",
       "      <td>69.83</td>\n",
       "    </tr>\n",
       "    <tr>\n",
       "      <th>2</th>\n",
       "      <td>Decision Tree</td>\n",
       "      <td>99.72</td>\n",
       "      <td>66.48</td>\n",
       "    </tr>\n",
       "    <tr>\n",
       "      <th>3</th>\n",
       "      <td>AdaBoost</td>\n",
       "      <td>74.72</td>\n",
       "      <td>65.36</td>\n",
       "    </tr>\n",
       "  </tbody>\n",
       "</table>\n",
       "</div>"
      ],
      "text/plain": [
       "           Model  Training Score  Test Score\n",
       "0            KNN           83.43       65.92\n",
       "1  Random Forest           99.72       69.83\n",
       "2  Decision Tree           99.72       66.48\n",
       "3       AdaBoost           74.72       65.36"
      ]
     },
     "execution_count": 37,
     "metadata": {},
     "output_type": "execute_result"
    }
   ],
   "source": [
    "knn_train, knn_test = KNNTrainTest(X_train, y_train, X_test, y_test)\n",
    "rf_train, rf_test = RandomForestTrainTest(X_train, y_train, X_test, y_test)\n",
    "dt_train, dt_test = DecisionTreeTrainTest(X_train, y_train, X_test, y_test)\n",
    "ab_train, ab_test = AdaBoostTrainTest(X_train, y_train, X_test, y_test)\n",
    "\n",
    "results_tsne3d = pd.DataFrame({\n",
    "    'Model': ['KNN',\n",
    "              'Random Forest', \n",
    "              'Decision Tree', \n",
    "              'AdaBoost'],\n",
    "    'Training Score': [knn_train, rf_train, dt_train, ab_train],\n",
    "    'Test Score': [knn_test, rf_test, dt_test, ab_test]})\n",
    "results_tsne3d"
   ]
  },
  {
   "cell_type": "markdown",
   "id": "2fe7c4e9",
   "metadata": {},
   "source": [
    "  "
   ]
  },
  {
   "cell_type": "markdown",
   "id": "2ff9626f",
   "metadata": {},
   "source": [
    "#### ANALYSIS"
   ]
  },
  {
   "cell_type": "markdown",
   "id": "9e8ec763",
   "metadata": {},
   "source": [
    "Below are the results of all calculations"
   ]
  },
  {
   "cell_type": "code",
   "execution_count": 38,
   "id": "c71e7908",
   "metadata": {},
   "outputs": [
    {
     "name": "stdout",
     "output_type": "stream",
     "text": [
      "Table 1. Standard classification\n"
     ]
    },
    {
     "data": {
      "text/html": [
       "<div>\n",
       "<style scoped>\n",
       "    .dataframe tbody tr th:only-of-type {\n",
       "        vertical-align: middle;\n",
       "    }\n",
       "\n",
       "    .dataframe tbody tr th {\n",
       "        vertical-align: top;\n",
       "    }\n",
       "\n",
       "    .dataframe thead th {\n",
       "        text-align: right;\n",
       "    }\n",
       "</style>\n",
       "<table border=\"1\" class=\"dataframe\">\n",
       "  <thead>\n",
       "    <tr style=\"text-align: right;\">\n",
       "      <th></th>\n",
       "      <th>Model</th>\n",
       "      <th>Training Score</th>\n",
       "      <th>Test Score</th>\n",
       "    </tr>\n",
       "  </thead>\n",
       "  <tbody>\n",
       "    <tr>\n",
       "      <th>0</th>\n",
       "      <td>KNN</td>\n",
       "      <td>83.99</td>\n",
       "      <td>70.39</td>\n",
       "    </tr>\n",
       "    <tr>\n",
       "      <th>1</th>\n",
       "      <td>Random Forest</td>\n",
       "      <td>99.02</td>\n",
       "      <td>83.24</td>\n",
       "    </tr>\n",
       "    <tr>\n",
       "      <th>2</th>\n",
       "      <td>Decision Tree</td>\n",
       "      <td>99.02</td>\n",
       "      <td>77.09</td>\n",
       "    </tr>\n",
       "    <tr>\n",
       "      <th>3</th>\n",
       "      <td>AdaBoost</td>\n",
       "      <td>83.99</td>\n",
       "      <td>82.12</td>\n",
       "    </tr>\n",
       "  </tbody>\n",
       "</table>\n",
       "</div>"
      ],
      "text/plain": [
       "           Model  Training Score  Test Score\n",
       "0            KNN           83.99       70.39\n",
       "1  Random Forest           99.02       83.24\n",
       "2  Decision Tree           99.02       77.09\n",
       "3       AdaBoost           83.99       82.12"
      ]
     },
     "execution_count": 38,
     "metadata": {},
     "output_type": "execute_result"
    }
   ],
   "source": [
    "print('Table 1. Standard classification')\n",
    "results_clf"
   ]
  },
  {
   "cell_type": "code",
   "execution_count": 39,
   "id": "5305b253",
   "metadata": {},
   "outputs": [
    {
     "name": "stdout",
     "output_type": "stream",
     "text": [
      "Table 2. 2d kPCA classification\n"
     ]
    },
    {
     "data": {
      "text/html": [
       "<div>\n",
       "<style scoped>\n",
       "    .dataframe tbody tr th:only-of-type {\n",
       "        vertical-align: middle;\n",
       "    }\n",
       "\n",
       "    .dataframe tbody tr th {\n",
       "        vertical-align: top;\n",
       "    }\n",
       "\n",
       "    .dataframe thead th {\n",
       "        text-align: right;\n",
       "    }\n",
       "</style>\n",
       "<table border=\"1\" class=\"dataframe\">\n",
       "  <thead>\n",
       "    <tr style=\"text-align: right;\">\n",
       "      <th></th>\n",
       "      <th>Model</th>\n",
       "      <th>Training Score</th>\n",
       "      <th>Test Score</th>\n",
       "    </tr>\n",
       "  </thead>\n",
       "  <tbody>\n",
       "    <tr>\n",
       "      <th>0</th>\n",
       "      <td>KNN</td>\n",
       "      <td>80.20</td>\n",
       "      <td>65.36</td>\n",
       "    </tr>\n",
       "    <tr>\n",
       "      <th>1</th>\n",
       "      <td>Random Forest</td>\n",
       "      <td>99.02</td>\n",
       "      <td>67.60</td>\n",
       "    </tr>\n",
       "    <tr>\n",
       "      <th>2</th>\n",
       "      <td>Decision Tree</td>\n",
       "      <td>99.02</td>\n",
       "      <td>62.01</td>\n",
       "    </tr>\n",
       "    <tr>\n",
       "      <th>3</th>\n",
       "      <td>AdaBoost</td>\n",
       "      <td>74.30</td>\n",
       "      <td>67.04</td>\n",
       "    </tr>\n",
       "  </tbody>\n",
       "</table>\n",
       "</div>"
      ],
      "text/plain": [
       "           Model  Training Score  Test Score\n",
       "0            KNN           80.20       65.36\n",
       "1  Random Forest           99.02       67.60\n",
       "2  Decision Tree           99.02       62.01\n",
       "3       AdaBoost           74.30       67.04"
      ]
     },
     "execution_count": 39,
     "metadata": {},
     "output_type": "execute_result"
    }
   ],
   "source": [
    "print('Table 2. 2d kPCA classification')\n",
    "results_kpca2d"
   ]
  },
  {
   "cell_type": "code",
   "execution_count": 40,
   "id": "8af27981",
   "metadata": {},
   "outputs": [
    {
     "name": "stdout",
     "output_type": "stream",
     "text": [
      "Table 3. 2d tSNE classification\n"
     ]
    },
    {
     "data": {
      "text/html": [
       "<div>\n",
       "<style scoped>\n",
       "    .dataframe tbody tr th:only-of-type {\n",
       "        vertical-align: middle;\n",
       "    }\n",
       "\n",
       "    .dataframe tbody tr th {\n",
       "        vertical-align: top;\n",
       "    }\n",
       "\n",
       "    .dataframe thead th {\n",
       "        text-align: right;\n",
       "    }\n",
       "</style>\n",
       "<table border=\"1\" class=\"dataframe\">\n",
       "  <thead>\n",
       "    <tr style=\"text-align: right;\">\n",
       "      <th></th>\n",
       "      <th>Model</th>\n",
       "      <th>Training Score</th>\n",
       "      <th>Test Score</th>\n",
       "    </tr>\n",
       "  </thead>\n",
       "  <tbody>\n",
       "    <tr>\n",
       "      <th>0</th>\n",
       "      <td>KNN</td>\n",
       "      <td>83.43</td>\n",
       "      <td>66.48</td>\n",
       "    </tr>\n",
       "    <tr>\n",
       "      <th>1</th>\n",
       "      <td>Random Forest</td>\n",
       "      <td>99.86</td>\n",
       "      <td>67.04</td>\n",
       "    </tr>\n",
       "    <tr>\n",
       "      <th>2</th>\n",
       "      <td>Decision Tree</td>\n",
       "      <td>99.86</td>\n",
       "      <td>68.16</td>\n",
       "    </tr>\n",
       "    <tr>\n",
       "      <th>3</th>\n",
       "      <td>AdaBoost</td>\n",
       "      <td>72.61</td>\n",
       "      <td>68.72</td>\n",
       "    </tr>\n",
       "  </tbody>\n",
       "</table>\n",
       "</div>"
      ],
      "text/plain": [
       "           Model  Training Score  Test Score\n",
       "0            KNN           83.43       66.48\n",
       "1  Random Forest           99.86       67.04\n",
       "2  Decision Tree           99.86       68.16\n",
       "3       AdaBoost           72.61       68.72"
      ]
     },
     "execution_count": 40,
     "metadata": {},
     "output_type": "execute_result"
    }
   ],
   "source": [
    "print('Table 3. 2d tSNE classification')\n",
    "results_tsne2d"
   ]
  },
  {
   "cell_type": "code",
   "execution_count": 41,
   "id": "4337975f",
   "metadata": {},
   "outputs": [
    {
     "name": "stdout",
     "output_type": "stream",
     "text": [
      "Table 4. 3d kPCA classification\n"
     ]
    },
    {
     "data": {
      "text/html": [
       "<div>\n",
       "<style scoped>\n",
       "    .dataframe tbody tr th:only-of-type {\n",
       "        vertical-align: middle;\n",
       "    }\n",
       "\n",
       "    .dataframe tbody tr th {\n",
       "        vertical-align: top;\n",
       "    }\n",
       "\n",
       "    .dataframe thead th {\n",
       "        text-align: right;\n",
       "    }\n",
       "</style>\n",
       "<table border=\"1\" class=\"dataframe\">\n",
       "  <thead>\n",
       "    <tr style=\"text-align: right;\">\n",
       "      <th></th>\n",
       "      <th>Model</th>\n",
       "      <th>Training Score</th>\n",
       "      <th>Test Score</th>\n",
       "    </tr>\n",
       "  </thead>\n",
       "  <tbody>\n",
       "    <tr>\n",
       "      <th>0</th>\n",
       "      <td>KNN</td>\n",
       "      <td>81.32</td>\n",
       "      <td>65.92</td>\n",
       "    </tr>\n",
       "    <tr>\n",
       "      <th>1</th>\n",
       "      <td>Random Forest</td>\n",
       "      <td>99.02</td>\n",
       "      <td>66.48</td>\n",
       "    </tr>\n",
       "    <tr>\n",
       "      <th>2</th>\n",
       "      <td>Decision Tree</td>\n",
       "      <td>99.02</td>\n",
       "      <td>58.66</td>\n",
       "    </tr>\n",
       "    <tr>\n",
       "      <th>3</th>\n",
       "      <td>AdaBoost</td>\n",
       "      <td>74.86</td>\n",
       "      <td>65.92</td>\n",
       "    </tr>\n",
       "  </tbody>\n",
       "</table>\n",
       "</div>"
      ],
      "text/plain": [
       "           Model  Training Score  Test Score\n",
       "0            KNN           81.32       65.92\n",
       "1  Random Forest           99.02       66.48\n",
       "2  Decision Tree           99.02       58.66\n",
       "3       AdaBoost           74.86       65.92"
      ]
     },
     "execution_count": 41,
     "metadata": {},
     "output_type": "execute_result"
    }
   ],
   "source": [
    "print('Table 4. 3d kPCA classification')\n",
    "results_kpca3d"
   ]
  },
  {
   "cell_type": "code",
   "execution_count": 42,
   "id": "88196427",
   "metadata": {},
   "outputs": [
    {
     "name": "stdout",
     "output_type": "stream",
     "text": [
      "Table 5. 3d tSNE classification\n"
     ]
    },
    {
     "data": {
      "text/html": [
       "<div>\n",
       "<style scoped>\n",
       "    .dataframe tbody tr th:only-of-type {\n",
       "        vertical-align: middle;\n",
       "    }\n",
       "\n",
       "    .dataframe tbody tr th {\n",
       "        vertical-align: top;\n",
       "    }\n",
       "\n",
       "    .dataframe thead th {\n",
       "        text-align: right;\n",
       "    }\n",
       "</style>\n",
       "<table border=\"1\" class=\"dataframe\">\n",
       "  <thead>\n",
       "    <tr style=\"text-align: right;\">\n",
       "      <th></th>\n",
       "      <th>Model</th>\n",
       "      <th>Training Score</th>\n",
       "      <th>Test Score</th>\n",
       "    </tr>\n",
       "  </thead>\n",
       "  <tbody>\n",
       "    <tr>\n",
       "      <th>0</th>\n",
       "      <td>KNN</td>\n",
       "      <td>83.43</td>\n",
       "      <td>65.92</td>\n",
       "    </tr>\n",
       "    <tr>\n",
       "      <th>1</th>\n",
       "      <td>Random Forest</td>\n",
       "      <td>99.72</td>\n",
       "      <td>69.83</td>\n",
       "    </tr>\n",
       "    <tr>\n",
       "      <th>2</th>\n",
       "      <td>Decision Tree</td>\n",
       "      <td>99.72</td>\n",
       "      <td>66.48</td>\n",
       "    </tr>\n",
       "    <tr>\n",
       "      <th>3</th>\n",
       "      <td>AdaBoost</td>\n",
       "      <td>74.72</td>\n",
       "      <td>65.36</td>\n",
       "    </tr>\n",
       "  </tbody>\n",
       "</table>\n",
       "</div>"
      ],
      "text/plain": [
       "           Model  Training Score  Test Score\n",
       "0            KNN           83.43       65.92\n",
       "1  Random Forest           99.72       69.83\n",
       "2  Decision Tree           99.72       66.48\n",
       "3       AdaBoost           74.72       65.36"
      ]
     },
     "execution_count": 42,
     "metadata": {},
     "output_type": "execute_result"
    }
   ],
   "source": [
    "print('Table 5. 3d tSNE classification')\n",
    "results_tsne3d"
   ]
  },
  {
   "cell_type": "markdown",
   "id": "e5d059b8",
   "metadata": {},
   "source": [
    "The first fact that is noticeable is that in the case of all 5 tables the training score of both Random Forest and Decision Tree remains the same by fluctuating between 99 and 100. In the case of KNN, the same score does not change from the standard one, in dimensionality reduction the training score decreased to 81.6%, while in AdaBoost a significant drop is noticed. In standard cases, it outputs 83% of accuracy on the training set, but once the dimension is reduced, this score dropped by almost 10%. \n",
    "\n",
    "The case with test scores is different. It has shown the highest values for knn, random forest, and decision tree in standard classification, but once the dimension was reduced the classification algorithms started to perform not that well. Also, there is a significant difference between training scores and test scores in all classifications in tables 2-5. The difference can reach up to 35%. It might be the result of not performing hyperparameter optimization. And as the value of the training score is much larger than the test score, it can be an indication of underfitting.\n",
    "\n",
    "The overview of results can be finalized as follows: Even the advantage that dimensionality reduction techniques give, using them in consecutive classification might not show that significant difference if the standard classification was applied on preprocessed data with no dimensionality reduction. \n",
    "\n",
    "Undoubtedly, dimensionality reduction techniques are useful algorithms to visualize the data in 2d and 3d planes and could be useful to use in classification in particular cases, however, in this research where the Titanic dataset is used, the implementation of both tSNE and kPCA in 2d and 3d plane shows not satisfactory results. Standard classification algorithms show more sufficient results. \n",
    "The possible reasons for obtaining such results could be:\n",
    "1. Not implementing hyperparameter optimization both on classification and dimensionality reduction algorithms. \n",
    "2. There might be wrong assumptions on the data preprocessing part. \n",
    "3. Normalization could have an influence. "
   ]
  },
  {
   "cell_type": "markdown",
   "id": "ec69cb2a",
   "metadata": {},
   "source": [
    "  "
   ]
  },
  {
   "cell_type": "markdown",
   "id": "d8c7db1a",
   "metadata": {},
   "source": [
    "#### CONCLUSION"
   ]
  },
  {
   "cell_type": "markdown",
   "id": "771ee200",
   "metadata": {},
   "source": [
    "In this project a new approach to solving the Titanic problem was present. The titanic dataset is one of the popular datasets on the Kaggle platform to test and experiment with different hypothesizes. The different way of solution in this project was to implement non-linear dimensionality reduction and observe how the reduction could affect training accuracy. Both kernel PCA and t-distributed Stochastic Neighbor Embedding on 2d and 3d planes were visualized. The assumption was tested with knn, random forest, decision tree, and AdaBoost algorithms. Finally, the implementations show that despite the ability to visually present data of Titanic problem the dimensionality reduction technique could not positively influence the classification accuracy, the result was lower than the direct implementation of algorithms on the preprocessed dataset.  "
   ]
  },
  {
   "cell_type": "markdown",
   "id": "2120cf08",
   "metadata": {},
   "source": [
    "  "
   ]
  },
  {
   "cell_type": "markdown",
   "id": "a44edaec",
   "metadata": {},
   "source": [
    "#### REFERENCES"
   ]
  },
  {
   "cell_type": "markdown",
   "id": "9ab1bccd",
   "metadata": {},
   "source": [
    "[1] C.Tauchert, P.Buxmann, and J.Lambinus, \"Crowdsourcing Data Science: A Qualitative Analysis of Organizations’ Usage of Kaggle Competitions,\" in <i>53rd Hawaii International Conference on System Sciences</i>, 2020, pp.229-238, doi: \t10.24251/HICSS.2020.029\n",
    "\n",
    "[2] E.Ekinci, S.I.Omurca, and N.Acun, \"A Comparative Study on Machine Learning\n",
    "Techniques using Titanic Dataset,\" in <i>7th International Conference on Advanced Technologies</i>, 2018, pp. 411-416. [Online], Available: https://www.researchgate.net/publication/324909545_A_Comparative_Study_on_Machine_Learning_Techniques_Using_Titanic_Dataset \n",
    "\n",
    "[3] S.Cicoria, J.Sherlock, M.Muniswamaiah, and L.Clarke, \"Classification of Titanic Passenger Data\n",
    "and Chances of Surviving the Disaster,\" in <i>Student-Faculty Research Day</i>, 2014. [Online], Available: https://www.researchgate.net/publication/328474979_Classification_of_Titanic_Passenger_Data_and_Chances_of_Surviving_the_Disaster\n",
    "\n",
    "[4] A.Singh, S.Saraswat, and N.Faujdar, \"Analyzing Titanic Disaster using Machine Learning Algorithms,\" in <i>International Conference on Computing, Communication and Automation (ICCCA2017)</i>, 2017, pp. 406-411, doi: 10.1109/CCAA.2017.8229835 \n",
    "\n",
    "[5] H.Singh, “Applying CNN over Titanic data-set using Keras,” Medium, 19-Jul-2018. [Online]. Available: https://medium.com/black-feathers-labs/applying-cnn-over-titanic-data-set-using-keras-ee07d70b0222 \n",
    "\n",
    "[6] A.George, \"Anomaly Detection based on Machine Learning: Dimensionality Reduction using PCA and Classification using SVM,\" in <i>International Journal of Computer Applications (0975 – 8887)</i>, vol. 47, no. 21, pp. 5-8, Jun.2012. \n",
    "\n",
    "[7] D.A.A.G.Singh, E.J.Leavline, R.Priyanka, and P.P.Priya, \"Dimensionality Reduction using Genetic Algorithm for Improving Accuracy in Medical Diagnosis,\" in <i>International Journal of Intelligent Systems and Applications (IJISA)</i>, vol. 8,\n",
    "no. 1, pp. 67-73, 2016. DOI: 10.5815/ijisa.2016.01.08 \n",
    "\n",
    "[8] A.Bibal, G.Nanfack, and B.Frénay, \"Explaining t-SNE Embeddings Locally by Adapting LIME,\" in <i>ESANN</i>, Oct.2020. [Online], Available: https://www.researchgate.net/publication/350734585_Explaining_t-SNE_Embeddings_Locally_by_Adapting_LIME \n",
    "\n",
    "[9] A.Gisbrecht, A.Schulz, and B.Hammer, \"Parametric nonlinear dimensionality reduction using kernel t-SNE,\" in <i>Neurocomputing</i>, vol. 147, no. 1, pp. 71-82. Jan.2015. doi: 10.1016/j.neucom.2013.11.045 \n",
    "\n",
    "[10] H.Hoffmann, \"Kernel PCA for Novelty Detection,\" in <i>Pattern Recognition</i>, vol. 40, no. 3, pp. 863-874, Mar.2007. doi: 10.1016/j.patcog.2006.07.009\n",
    "\n",
    "[11] N.Satour, B.Benyacoub, B.El Mahrad, and I.Kacimi, \"KPCA over PCA to assess urban resilience to floods,\" in <i>E3S Web of Conferences</i>, 2021, pp. 1-6, doi: 10.1051/e3sconf/202131403005"
   ]
  },
  {
   "cell_type": "code",
   "execution_count": null,
   "id": "15d9d1e7",
   "metadata": {},
   "outputs": [],
   "source": []
  }
 ],
 "metadata": {
  "kernelspec": {
   "display_name": "Python 3",
   "language": "python",
   "name": "python3"
  },
  "language_info": {
   "codemirror_mode": {
    "name": "ipython",
    "version": 3
   },
   "file_extension": ".py",
   "mimetype": "text/x-python",
   "name": "python",
   "nbconvert_exporter": "python",
   "pygments_lexer": "ipython3",
   "version": "3.8.8"
  }
 },
 "nbformat": 4,
 "nbformat_minor": 5
}
